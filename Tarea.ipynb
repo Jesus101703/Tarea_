{
  "nbformat": 4,
  "nbformat_minor": 0,
  "metadata": {
    "colab": {
      "name": "Tarea.ipynb",
      "provenance": [],
      "collapsed_sections": []
    },
    "kernelspec": {
      "name": "python3",
      "display_name": "Python 3"
    }
  },
  "cells": [
    {
      "cell_type": "markdown",
      "metadata": {
        "id": "4WBzPpA3Jwl1"
      },
      "source": [
        "**Programa 1.-** Desarrolar una variable de tipo entera tipo value, indique si es un numero par o impar."
      ]
    },
    {
      "cell_type": "code",
      "metadata": {
        "id": "wdCWiOk9JPBs",
        "outputId": "ed595478-ea6c-4729-8d93-e03ad65a89ed",
        "colab": {
          "base_uri": "https://localhost:8080/"
        }
      },
      "source": [
        "x = input('Escribe un numero: ')\n",
        "\n",
        "x = int(x)\n",
        "\n",
        "if x%2 == 0:\n",
        "\tprint('El numero es par')\n",
        "else:\n",
        "\tprint('El numero es impar')\n"
      ],
      "execution_count": null,
      "outputs": [
        {
          "output_type": "stream",
          "text": [
            "Escribe un numero: 5\n",
            "El numero es impar\n"
          ],
          "name": "stdout"
        }
      ]
    },
    {
      "cell_type": "markdown",
      "metadata": {
        "id": "iDieo6WvK-1H"
      },
      "source": [
        "**Programa 2** Desarrolle un programa en el que el usuario introduzca una cadena de caracteres y un numero\n",
        "entero, despues el programa debe de imprimir la cadena de caracteres tantas veces como el numero entero."
      ]
    },
    {
      "cell_type": "code",
      "metadata": {
        "id": "_DVNMiDyLhnQ",
        "outputId": "701d1f28-24d9-4973-cf7f-27baf4bfaa07",
        "colab": {
          "base_uri": "https://localhost:8080/"
        }
      },
      "source": [
        "a=int(input(\"Agregue el numero deseado: \"))\n",
        "caracter=input(\"Agregue la frase: \")\n",
        "contador=0\n",
        "while contador<=a:\n",
        "  contador=contador+1\n",
        "  print(caracter)\n",
        "  print(\"Ya se repitio la frase\")\n"
      ],
      "execution_count": null,
      "outputs": [
        {
          "output_type": "stream",
          "text": [
            "Agregue el numero deseado: 2\n",
            "Agregue la frase: Hola\n",
            "Hola\n",
            "Ya se repitio la frase\n",
            "Hola\n",
            "Ya se repitio la frase\n",
            "Hola\n",
            "Ya se repitio la frase\n"
          ],
          "name": "stdout"
        }
      ]
    },
    {
      "cell_type": "markdown",
      "metadata": {
        "id": "C5iSzqT7NPqa"
      },
      "source": [
        "**Programa 3** Escribir una funcion que reciba como argumentos el numero de horas y el costo por hora dejarlo\n",
        "como argumento predefinido en 150 la funcion debe de regresar el pago del empleado en un\n",
        "dıa, en una semana (5 dıas) y en un mes (20 dıas)."
      ]
    },
    {
      "cell_type": "code",
      "metadata": {
        "id": "CSs3i75LNcC2",
        "outputId": "5847b632-ff42-43a1-ff1c-925c0b3f81be",
        "colab": {
          "base_uri": "https://localhost:8080/"
        }
      },
      "source": [
        "çdef calculahoras(horas, costo = 150):\n",
        "  pago = horas*costo\n",
        "  print('Pago por día: {pago}'.format(pago = pago))\n",
        "  pago = pago * 5\n",
        "  print('Pago por semana: {pago}'.format(pago = pago))\n",
        "  pago = pago * 4\n",
        "  print('Pago por mes: {pago}'.format(pago = pago))\n",
        "  \n",
        "  \n",
        "horas = int(input('Ingresa el numero de horas: '))\n",
        "\n",
        "costo = int(input('Ingresa el costo por hora: '))\n",
        "  \n",
        "calculahoras(horas, costo)"
      ],
      "execution_count": null,
      "outputs": [
        {
          "output_type": "stream",
          "text": [
            "Ingresa el numero de horas: 7\n",
            "Ingresa el costo por hora: 17\n",
            "Pago por día: 119\n",
            "Pago por semana: 595\n",
            "Pago por mes: 2380\n"
          ],
          "name": "stdout"
        }
      ]
    },
    {
      "cell_type": "markdown",
      "metadata": {
        "id": "YRUz8DN8N0gp"
      },
      "source": [
        "**Programa 4** Escribir el codigo de una calculadora, que inicialmente muestre el menu y dependiendo de la\n",
        "opcion elegida por el usuario se desarrolle la operacion, observe que en la division el denominador no puede ser cero, en caso que sea ası, debe de entrar en un bucle while que este leyendo\n",
        "el denominador de nuevo hasta que ´este sea distinto de cero\n",
        "a. suma\n",
        "b. resta\n",
        "c. multiplicacion\n",
        "d. divisi´on"
      ]
    },
    {
      "cell_type": "code",
      "metadata": {
        "id": "edA2KUQ6OWPO",
        "outputId": "6c6d6dab-197a-4096-9058-36da5ad3aa45",
        "colab": {
          "base_uri": "https://localhost:8080/",
          "height": 1000
        }
      },
      "source": [
        "continua = True\n",
        "op = ''\n",
        "a = 0\n",
        "b = 0\n",
        "\n",
        "def suma(a,b):\n",
        "\treturn a + b\n",
        "\n",
        "def resta(a,b):\n",
        "\treturn a - b\n",
        "\n",
        "def multi(a,b):\n",
        "\treturn a * b\n",
        "\n",
        "def div(a,b):\n",
        "\treturn a / b\n",
        "\n",
        "\n",
        "def decide(op, a ,b):\n",
        "\tif op == 'a':\n",
        "\t\tres = suma(a,b)\n",
        "\telif op == 'b':\n",
        "\t\tres = resta(a,b)\n",
        "\telif op == 'c':\n",
        "\t\tres = multi(a,b)\n",
        "\telif op == 'd':\n",
        "\t\tres = div(a,b)\n",
        "\telse:\n",
        "\t\tprint('Adios...')\n",
        "\t\treturn False\n",
        "\n",
        "\tprint('El resultado es: {resultado}'.format(resultado = res))\n",
        "\treturn True\n",
        "\n",
        "\n",
        "while continua:\n",
        "\top = ''\n",
        "\tprint(\"\"\"\t\t\ta. suma\\n\n",
        "\t\t\tb. resta\\n\n",
        "\t\t\tc. multiplicacion\\n\n",
        "\t\t\td. division\\n\n",
        "\t\t\tIntroduzca una opción:\"\"\")\n",
        "\top = str(input(op))\n",
        "\tif op == 'a' or op == 'b' or op == 'c' or op =='d':\n",
        "\t\ta = float(input('Introduce el primer numero: '))\n",
        "\t\tb = float(input('Introduce el segundo numero: '))\n",
        "\t\tif op == 'd':\n",
        "\t\t\twhile b == 0: \n",
        "\t\t\t\tb = int(input('El segundo numero debe ser diferente de 0: '))\n",
        "\tcontinua = decide(op, a, b)\n"
      ],
      "execution_count": null,
      "outputs": [
        {
          "output_type": "stream",
          "text": [
            "\t\t\ta. suma\n",
            "\n",
            "\t\t\tb. resta\n",
            "\n",
            "\t\t\tc. multiplicacion\n",
            "\n",
            "\t\t\td. division\n",
            "\n",
            "\t\t\tIntroduzca una opción:\n",
            "a\n",
            "Introduce el primer numero: 5\n",
            "Introduce el segundo numero: 6\n",
            "El resultado es: 11.0\n",
            "\t\t\ta. suma\n",
            "\n",
            "\t\t\tb. resta\n",
            "\n",
            "\t\t\tc. multiplicacion\n",
            "\n",
            "\t\t\td. division\n",
            "\n",
            "\t\t\tIntroduzca una opción:\n",
            "b\n",
            "Introduce el primer numero: 14\n",
            "Introduce el segundo numero: 20\n",
            "El resultado es: -6.0\n",
            "\t\t\ta. suma\n",
            "\n",
            "\t\t\tb. resta\n",
            "\n",
            "\t\t\tc. multiplicacion\n",
            "\n",
            "\t\t\td. division\n",
            "\n",
            "\t\t\tIntroduzca una opción:\n",
            "c\n",
            "Introduce el primer numero: 8\n",
            "Introduce el segundo numero: 7\n",
            "El resultado es: 56.0\n",
            "\t\t\ta. suma\n",
            "\n",
            "\t\t\tb. resta\n",
            "\n",
            "\t\t\tc. multiplicacion\n",
            "\n",
            "\t\t\td. division\n",
            "\n",
            "\t\t\tIntroduzca una opción:\n",
            "d\n",
            "Introduce el primer numero: 2000\n",
            "Introduce el segundo numero: 5\n",
            "El resultado es: 400.0\n",
            "\t\t\ta. suma\n",
            "\n",
            "\t\t\tb. resta\n",
            "\n",
            "\t\t\tc. multiplicacion\n",
            "\n",
            "\t\t\td. division\n",
            "\n",
            "\t\t\tIntroduzca una opción:\n"
          ],
          "name": "stdout"
        },
        {
          "output_type": "error",
          "ename": "KeyboardInterrupt",
          "evalue": "ignored",
          "traceback": [
            "\u001b[0;31m---------------------------------------------------------------------------\u001b[0m",
            "\u001b[0;31mKeyboardInterrupt\u001b[0m                         Traceback (most recent call last)",
            "\u001b[0;32m/usr/local/lib/python3.6/dist-packages/ipykernel/kernelbase.py\u001b[0m in \u001b[0;36m_input_request\u001b[0;34m(self, prompt, ident, parent, password)\u001b[0m\n\u001b[1;32m    728\u001b[0m             \u001b[0;32mtry\u001b[0m\u001b[0;34m:\u001b[0m\u001b[0;34m\u001b[0m\u001b[0;34m\u001b[0m\u001b[0m\n\u001b[0;32m--> 729\u001b[0;31m                 \u001b[0mident\u001b[0m\u001b[0;34m,\u001b[0m \u001b[0mreply\u001b[0m \u001b[0;34m=\u001b[0m \u001b[0mself\u001b[0m\u001b[0;34m.\u001b[0m\u001b[0msession\u001b[0m\u001b[0;34m.\u001b[0m\u001b[0mrecv\u001b[0m\u001b[0;34m(\u001b[0m\u001b[0mself\u001b[0m\u001b[0;34m.\u001b[0m\u001b[0mstdin_socket\u001b[0m\u001b[0;34m,\u001b[0m \u001b[0;36m0\u001b[0m\u001b[0;34m)\u001b[0m\u001b[0;34m\u001b[0m\u001b[0;34m\u001b[0m\u001b[0m\n\u001b[0m\u001b[1;32m    730\u001b[0m             \u001b[0;32mexcept\u001b[0m \u001b[0mException\u001b[0m\u001b[0;34m:\u001b[0m\u001b[0;34m\u001b[0m\u001b[0;34m\u001b[0m\u001b[0m\n",
            "\u001b[0;32m/usr/local/lib/python3.6/dist-packages/jupyter_client/session.py\u001b[0m in \u001b[0;36mrecv\u001b[0;34m(self, socket, mode, content, copy)\u001b[0m\n\u001b[1;32m    802\u001b[0m         \u001b[0;32mtry\u001b[0m\u001b[0;34m:\u001b[0m\u001b[0;34m\u001b[0m\u001b[0;34m\u001b[0m\u001b[0m\n\u001b[0;32m--> 803\u001b[0;31m             \u001b[0mmsg_list\u001b[0m \u001b[0;34m=\u001b[0m \u001b[0msocket\u001b[0m\u001b[0;34m.\u001b[0m\u001b[0mrecv_multipart\u001b[0m\u001b[0;34m(\u001b[0m\u001b[0mmode\u001b[0m\u001b[0;34m,\u001b[0m \u001b[0mcopy\u001b[0m\u001b[0;34m=\u001b[0m\u001b[0mcopy\u001b[0m\u001b[0;34m)\u001b[0m\u001b[0;34m\u001b[0m\u001b[0;34m\u001b[0m\u001b[0m\n\u001b[0m\u001b[1;32m    804\u001b[0m         \u001b[0;32mexcept\u001b[0m \u001b[0mzmq\u001b[0m\u001b[0;34m.\u001b[0m\u001b[0mZMQError\u001b[0m \u001b[0;32mas\u001b[0m \u001b[0me\u001b[0m\u001b[0;34m:\u001b[0m\u001b[0;34m\u001b[0m\u001b[0;34m\u001b[0m\u001b[0m\n",
            "\u001b[0;32m/usr/local/lib/python3.6/dist-packages/zmq/sugar/socket.py\u001b[0m in \u001b[0;36mrecv_multipart\u001b[0;34m(self, flags, copy, track)\u001b[0m\n\u001b[1;32m    490\u001b[0m         \"\"\"\n\u001b[0;32m--> 491\u001b[0;31m         \u001b[0mparts\u001b[0m \u001b[0;34m=\u001b[0m \u001b[0;34m[\u001b[0m\u001b[0mself\u001b[0m\u001b[0;34m.\u001b[0m\u001b[0mrecv\u001b[0m\u001b[0;34m(\u001b[0m\u001b[0mflags\u001b[0m\u001b[0;34m,\u001b[0m \u001b[0mcopy\u001b[0m\u001b[0;34m=\u001b[0m\u001b[0mcopy\u001b[0m\u001b[0;34m,\u001b[0m \u001b[0mtrack\u001b[0m\u001b[0;34m=\u001b[0m\u001b[0mtrack\u001b[0m\u001b[0;34m)\u001b[0m\u001b[0;34m]\u001b[0m\u001b[0;34m\u001b[0m\u001b[0;34m\u001b[0m\u001b[0m\n\u001b[0m\u001b[1;32m    492\u001b[0m         \u001b[0;31m# have first part already, only loop while more to receive\u001b[0m\u001b[0;34m\u001b[0m\u001b[0;34m\u001b[0m\u001b[0;34m\u001b[0m\u001b[0m\n",
            "\u001b[0;32mzmq/backend/cython/socket.pyx\u001b[0m in \u001b[0;36mzmq.backend.cython.socket.Socket.recv\u001b[0;34m()\u001b[0m\n",
            "\u001b[0;32mzmq/backend/cython/socket.pyx\u001b[0m in \u001b[0;36mzmq.backend.cython.socket.Socket.recv\u001b[0;34m()\u001b[0m\n",
            "\u001b[0;32mzmq/backend/cython/socket.pyx\u001b[0m in \u001b[0;36mzmq.backend.cython.socket._recv_copy\u001b[0;34m()\u001b[0m\n",
            "\u001b[0;32m/usr/local/lib/python3.6/dist-packages/zmq/backend/cython/checkrc.pxd\u001b[0m in \u001b[0;36mzmq.backend.cython.checkrc._check_rc\u001b[0;34m()\u001b[0m\n",
            "\u001b[0;31mKeyboardInterrupt\u001b[0m: ",
            "\nDuring handling of the above exception, another exception occurred:\n",
            "\u001b[0;31mKeyboardInterrupt\u001b[0m                         Traceback (most recent call last)",
            "\u001b[0;32m<ipython-input-10-69047bc6c567>\u001b[0m in \u001b[0;36m<module>\u001b[0;34m()\u001b[0m\n\u001b[1;32m     41\u001b[0m                         \u001b[0md\u001b[0m\u001b[0;34m.\u001b[0m \u001b[0mdivision\u001b[0m\u001b[0;31m\\\u001b[0m\u001b[0mn\u001b[0m\u001b[0;34m\u001b[0m\u001b[0;34m\u001b[0m\u001b[0m\n\u001b[1;32m     42\u001b[0m \t\t\tIntroduzca una opción:\"\"\")\n\u001b[0;32m---> 43\u001b[0;31m         \u001b[0mop\u001b[0m \u001b[0;34m=\u001b[0m \u001b[0mstr\u001b[0m\u001b[0;34m(\u001b[0m\u001b[0minput\u001b[0m\u001b[0;34m(\u001b[0m\u001b[0mop\u001b[0m\u001b[0;34m)\u001b[0m\u001b[0;34m)\u001b[0m\u001b[0;34m\u001b[0m\u001b[0;34m\u001b[0m\u001b[0m\n\u001b[0m\u001b[1;32m     44\u001b[0m         \u001b[0;32mif\u001b[0m \u001b[0mop\u001b[0m \u001b[0;34m==\u001b[0m \u001b[0;34m'a'\u001b[0m \u001b[0;32mor\u001b[0m \u001b[0mop\u001b[0m \u001b[0;34m==\u001b[0m \u001b[0;34m'b'\u001b[0m \u001b[0;32mor\u001b[0m \u001b[0mop\u001b[0m \u001b[0;34m==\u001b[0m \u001b[0;34m'c'\u001b[0m \u001b[0;32mor\u001b[0m \u001b[0mop\u001b[0m \u001b[0;34m==\u001b[0m\u001b[0;34m'd'\u001b[0m\u001b[0;34m:\u001b[0m\u001b[0;34m\u001b[0m\u001b[0;34m\u001b[0m\u001b[0m\n\u001b[1;32m     45\u001b[0m                 \u001b[0ma\u001b[0m \u001b[0;34m=\u001b[0m \u001b[0mfloat\u001b[0m\u001b[0;34m(\u001b[0m\u001b[0minput\u001b[0m\u001b[0;34m(\u001b[0m\u001b[0;34m'Introduce el primer numero: '\u001b[0m\u001b[0;34m)\u001b[0m\u001b[0;34m)\u001b[0m\u001b[0;34m\u001b[0m\u001b[0;34m\u001b[0m\u001b[0m\n",
            "\u001b[0;32m/usr/local/lib/python3.6/dist-packages/ipykernel/kernelbase.py\u001b[0m in \u001b[0;36mraw_input\u001b[0;34m(self, prompt)\u001b[0m\n\u001b[1;32m    702\u001b[0m             \u001b[0mself\u001b[0m\u001b[0;34m.\u001b[0m\u001b[0m_parent_ident\u001b[0m\u001b[0;34m,\u001b[0m\u001b[0;34m\u001b[0m\u001b[0;34m\u001b[0m\u001b[0m\n\u001b[1;32m    703\u001b[0m             \u001b[0mself\u001b[0m\u001b[0;34m.\u001b[0m\u001b[0m_parent_header\u001b[0m\u001b[0;34m,\u001b[0m\u001b[0;34m\u001b[0m\u001b[0;34m\u001b[0m\u001b[0m\n\u001b[0;32m--> 704\u001b[0;31m             \u001b[0mpassword\u001b[0m\u001b[0;34m=\u001b[0m\u001b[0;32mFalse\u001b[0m\u001b[0;34m,\u001b[0m\u001b[0;34m\u001b[0m\u001b[0;34m\u001b[0m\u001b[0m\n\u001b[0m\u001b[1;32m    705\u001b[0m         )\n\u001b[1;32m    706\u001b[0m \u001b[0;34m\u001b[0m\u001b[0m\n",
            "\u001b[0;32m/usr/local/lib/python3.6/dist-packages/ipykernel/kernelbase.py\u001b[0m in \u001b[0;36m_input_request\u001b[0;34m(self, prompt, ident, parent, password)\u001b[0m\n\u001b[1;32m    732\u001b[0m             \u001b[0;32mexcept\u001b[0m \u001b[0mKeyboardInterrupt\u001b[0m\u001b[0;34m:\u001b[0m\u001b[0;34m\u001b[0m\u001b[0;34m\u001b[0m\u001b[0m\n\u001b[1;32m    733\u001b[0m                 \u001b[0;31m# re-raise KeyboardInterrupt, to truncate traceback\u001b[0m\u001b[0;34m\u001b[0m\u001b[0;34m\u001b[0m\u001b[0;34m\u001b[0m\u001b[0m\n\u001b[0;32m--> 734\u001b[0;31m                 \u001b[0;32mraise\u001b[0m \u001b[0mKeyboardInterrupt\u001b[0m\u001b[0;34m\u001b[0m\u001b[0;34m\u001b[0m\u001b[0m\n\u001b[0m\u001b[1;32m    735\u001b[0m             \u001b[0;32melse\u001b[0m\u001b[0;34m:\u001b[0m\u001b[0;34m\u001b[0m\u001b[0;34m\u001b[0m\u001b[0m\n\u001b[1;32m    736\u001b[0m                 \u001b[0;32mbreak\u001b[0m\u001b[0;34m\u001b[0m\u001b[0;34m\u001b[0m\u001b[0m\n",
            "\u001b[0;31mKeyboardInterrupt\u001b[0m: "
          ]
        }
      ]
    },
    {
      "cell_type": "markdown",
      "metadata": {
        "id": "T-sgiWudRLHL"
      },
      "source": [
        "**Programa 5** Una tienda de juguetes tiene dos productos estrella, un payaso y un juego de mesa, el payaso\n",
        "pesa 150 gr y el juego de mesa pesa 170 gr. Hacer una funcion que reciba el numero de payasos\n",
        "y el numero de juegos de mesa por pedido, si el peso total del pedido es mayor a 10 kg, debe de mandar error, debe de inidicar pro cuantos gramos se paso el envıo y debe de regresar False al programa principal.\n"
      ]
    },
    {
      "cell_type": "code",
      "metadata": {
        "id": "HifWuCvIRh2l",
        "outputId": "807b3112-c6fb-4f39-cd5b-e015b7da1201",
        "colab": {
          "base_uri": "https://localhost:8080/"
        }
      },
      "source": [
        "payaso = 1.5\n",
        "\n",
        "juego_mesa = 1.7\n",
        "\n",
        "\n",
        "def peso(p1, p2):\n",
        "\ttotal = p1*payaso + p2*juego_mesa \n",
        "\tif total > 10:\n",
        "\t\tprint('El pedido excede el peso perimitido de 10k por: {p}gr'.format(p=(total - 10)))\n",
        "\t\treturn False\n",
        "\telse:\n",
        "\t\treturn True\n",
        "\n",
        "piezas_payaso = int(input('Numero de piezas payaso: '))\n",
        "piezas_juego_mesa = int(input('NUmero de piezas juego de mesa: '))\n",
        "\n",
        "if peso(piezas_payaso, piezas_juego_mesa):\n",
        "\tprint('Pedido Exitoso!')\n",
        "else:\n",
        "\tprint('Pedido Rechazado!')\n"
      ],
      "execution_count": null,
      "outputs": [
        {
          "output_type": "stream",
          "text": [
            "Numero de piezas payaso: 6\n",
            "NUmero de piezas juego de mesa: 2\n",
            "El pedido excede el peso perimitido de 10k por: 2.4000000000000004gr\n",
            "Pedido Rechazado!\n"
          ],
          "name": "stdout"
        }
      ]
    },
    {
      "cell_type": "markdown",
      "metadata": {
        "id": "J-nuAKeZWL5u"
      },
      "source": [
        "**Programa 6** Desarrolle una funcion que acepte como argumento el salario, y la funcion debe de mostrar el\n",
        "rango en que se encuentra, y debe de regresar el salario con el descuento del impuesto, si la funcion se ha podido desarrollar con exito, debe de regresar True.\n"
      ]
    },
    {
      "cell_type": "code",
      "metadata": {
        "id": "EQmAjCihWj5a",
        "outputId": "5e91e321-c110-4bc8-ff54-381ec179011e",
        "colab": {
          "base_uri": "https://localhost:8080/"
        }
      },
      "source": [
        "def impuesto(salario):\n",
        "\tif salario > 0:\n",
        "\t\tif salario < 10000:\n",
        "\t\t\tprint('Menos de 10 mil.....5%')\n",
        "\t\t\tsalario = salario * .95\n",
        "\t\telif salario < 15000:\n",
        "\t\t\tprint('Entre 10 mil y 15 mil.....10%')\n",
        "\t\t\tsalario = salario * .9\n",
        "\t\telif salario < 20000:\n",
        "\t\t\tprint('Entre 15 mil y 20 mil.....15%')\n",
        "\t\t\tsalario = salario * .85\n",
        "\t\telse:\n",
        "\t\t\tprint('Mas de 20 mil.....18%')\n",
        "\t\t\tsalario = salario * .88\n",
        "\telse:\n",
        "\t\treturn False\n",
        "\n",
        "\tprint('Salario: {s}'.format(s = salario))\n",
        "\treturn True\n",
        "\n",
        "\n",
        "sal = float(input('Ingresa el salario: '))\n",
        "if impuesto(sal):\n",
        "\tprint('Salario calculado con exito!')\n",
        "else:\n",
        "\tprint('El salario es erroneo')\n"
      ],
      "execution_count": null,
      "outputs": [
        {
          "output_type": "stream",
          "text": [
            "Ingresa el salario: 5000\n",
            "Menos de 10 mil.....5%\n",
            "Salario: 4750.0\n",
            "Salario calculado con exito!\n"
          ],
          "name": "stdout"
        }
      ]
    },
    {
      "cell_type": "markdown",
      "metadata": {
        "id": "LkdsoGmmXI67"
      },
      "source": [
        "**Programa 7** Escribir un programa para un museo, donde se deben de mandar a una funci´on los siguientes\n",
        "par´ametros, edad y ocupaci´on. Se deben de aplicar los siguintes costos y descuentos"
      ]
    },
    {
      "cell_type": "code",
      "metadata": {
        "id": "WfcySLsyXIgO",
        "outputId": "62935e53-514c-45b0-cdd9-b62ea3df9a19",
        "colab": {
          "base_uri": "https://localhost:8080/"
        }
      },
      "source": [
        "def costo(edad, ocupacion):\n",
        "\tprecio = 0\n",
        "\tif edad < 4:\n",
        "\t\tprecio = 0\n",
        "\telif edad < 16:\n",
        "\t\tprecio = 50\n",
        "\telse:\n",
        "\t\tprecio = 100\n",
        "\n",
        "\tif ocupacion == 'estudiante':\n",
        "\t\tprecio = precio * .9\n",
        "\telif ocupacion == 'docente':\n",
        "\t\tprecio = precio * .7\n",
        "\telif ocupacion == 'inapam':\n",
        "\t\tprecio = precio * .5\n",
        "\n",
        "\treturn precio\n",
        "\n",
        "age = int(input('Introduce la edad: '))\n",
        "job = str(input('Intruduce la ocupacion: '))\n",
        "\n",
        "job = job.lower()\n",
        "\n",
        "precio = costo(age, job)\n",
        "print('El costo es de: {c}'.format(c = precio))\n",
        "\n"
      ],
      "execution_count": null,
      "outputs": [
        {
          "output_type": "stream",
          "text": [
            "Introduce la edad: 16\n",
            "Intruduce la ocupacion: estudiante\n",
            "El costo es de: 90.0\n"
          ],
          "name": "stdout"
        }
      ]
    },
    {
      "cell_type": "markdown",
      "metadata": {
        "id": "FHy2uIG5XntD"
      },
      "source": [
        "**Programa 8** Escribir un programa que pida al usuario un numero entero y muestre en pantalla un trıangulo\n",
        "rectangulo el que se muestra. "
      ]
    },
    {
      "cell_type": "code",
      "metadata": {
        "id": "xs0wUlCFX4AG",
        "outputId": "7743d386-bcbd-4bdf-dcc6-b6db05e2cb62",
        "colab": {
          "base_uri": "https://localhost:8080/"
        }
      },
      "source": [
        "base = int(input('Introduzca un numero entero: '))\n",
        "\n",
        "asterisco = '*'\n",
        "\n",
        "for i in range(base):\n",
        "  print(asterisco * (i + 1))"
      ],
      "execution_count": null,
      "outputs": [
        {
          "output_type": "stream",
          "text": [
            "Introduzca un numero entero: 6\n",
            "*\n",
            "**\n",
            "***\n",
            "****\n",
            "*****\n",
            "******\n"
          ],
          "name": "stdout"
        }
      ]
    },
    {
      "cell_type": "markdown",
      "metadata": {
        "id": "cK33rOZ9KN1-"
      },
      "source": [
        "**Programa 9** Escribir una funcion que reciba un numero entero positivo y devuelva su factorial"
      ]
    },
    {
      "cell_type": "code",
      "metadata": {
        "id": "koSigsMgK-5u",
        "outputId": "0d4daa4a-e68f-482a-ec59-4b327675d3a7",
        "colab": {
          "base_uri": "https://localhost:8080/"
        }
      },
      "source": [
        "def factorial(num):\n",
        "\tres = num\n",
        "\tfor i in range(num, 1, -1):\n",
        "\t\tres = res * (i-1)\n",
        "\treturn res\n",
        "\n",
        "\n",
        "numero = int(input('Introduce un numero: '))\n",
        "\n",
        "while numero <= 0:\n",
        "\tnumero = int(input('El numero debe de ser positivo: '))\n",
        "\n",
        "resultado = factorial(numero)\n",
        "\n",
        "print('El factorial de {n} es: {r}'.format(n = numero, r = resultado))"
      ],
      "execution_count": null,
      "outputs": [
        {
          "output_type": "stream",
          "text": [
            "Introduce un numero: 10\n",
            "El factorial de 10 es: 3628800\n"
          ],
          "name": "stdout"
        }
      ]
    },
    {
      "cell_type": "markdown",
      "metadata": {
        "id": "qVe_B1J2K916"
      },
      "source": [
        "**Programa 10** Escribir una funcion que calcule el area de un cırculo y otra que calcule el volumen de un cilindro\n",
        "utilizando la primera funcion."
      ]
    },
    {
      "cell_type": "code",
      "metadata": {
        "id": "MQBVKqFgMrG7",
        "outputId": "013011ff-03a9-4228-8fd8-709871935e5a",
        "colab": {
          "base_uri": "https://localhost:8080/"
        }
      },
      "source": [
        "def area(radio):\n",
        "\treturn 3.1416 * radio\n",
        "\n",
        "def volumen(radio, altura):\n",
        "\tA = area(radio)\n",
        "\treturn A * altura\n",
        "\n",
        "\n",
        "r = int(input(\"Introduce el radio: \"))\n",
        "a = int(input(\"Introduce la altura: \"))\n",
        "\n",
        "vol = volumen(r,a)\n",
        "\n",
        "print('El volumen del cilindro es: {v} unidades cubicas'.format(v = vol))\n"
      ],
      "execution_count": null,
      "outputs": [
        {
          "output_type": "stream",
          "text": [
            "Introduce el radio: 6\n",
            "Introduce la altura: 4\n",
            "El volumen del cilindro es: 75.3984 unidades cubicas\n"
          ],
          "name": "stdout"
        }
      ]
    }
  ]
}